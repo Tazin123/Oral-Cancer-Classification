{
 "cells": [
  {
   "cell_type": "code",
   "execution_count": 1,
   "id": "c879fafa",
   "metadata": {},
   "outputs": [],
   "source": [
    "import tensorflow as tf\n",
    "from tensorflow.keras.layers import Input, GlobalAveragePooling2D, Dense, Dropout\n",
    "from tensorflow.keras.models import Model\n",
    "from tensorflow.keras.optimizers import Adam\n",
    "from tensorflow.keras.applications import MobileNetV2\n",
    "from tensorflow.keras.preprocessing.image import ImageDataGenerator\n",
    "from tensorflow.keras.preprocessing import image"
   ]
  },
  {
   "cell_type": "code",
   "execution_count": 2,
   "id": "59dcef6b",
   "metadata": {},
   "outputs": [
    {
     "name": "stdout",
     "output_type": "stream",
     "text": [
      "WARNING:tensorflow:`input_shape` is undefined or non-square, or `rows` is not in [96, 128, 160, 192, 224]. Weights for input shape (224, 224) will be loaded as the default.\n"
     ]
    }
   ],
   "source": [
    "# Load the pre-trained MobileNetV2 model\n",
    "base_model = MobileNetV2(weights='imagenet', include_top=False, input_tensor=Input(shape=(224, 224, 3)))"
   ]
  },
  {
   "cell_type": "code",
   "execution_count": 3,
   "id": "f78c439c",
   "metadata": {},
   "outputs": [],
   "source": [
    "# Freeze the pre-trained layers\n",
    "for layer in base_model.layers:\n",
    "    layer.trainable = False\n"
   ]
  },
  {
   "cell_type": "code",
   "execution_count": 4,
   "id": "5ad8b362",
   "metadata": {},
   "outputs": [],
   "source": [
    "# Add custom classification layers on top\n",
    "x = base_model.output\n",
    "x = GlobalAveragePooling2D()(x)\n",
    "x = Dense(512, activation='relu')(x)\n",
    "x = Dropout(0.5)(x)\n",
    "predictions = Dense(1, activation='sigmoid')(x)  # Use 'sigmoid'\n",
    "\n",
    "model = Model(inputs=base_model.input, outputs=predictions)\n"
   ]
  },
  {
   "cell_type": "code",
   "execution_count": 5,
   "id": "6899c2a3",
   "metadata": {},
   "outputs": [],
   "source": [
    "model.compile(\n",
    "    optimizer='adam',\n",
    "    loss=tf.keras.losses.BinaryCrossentropy(from_logits=False),\n",
    "    metrics=['accuracy','Precision','Recall','AUC']\n",
    ")"
   ]
  },
  {
   "cell_type": "code",
   "execution_count": 6,
   "id": "9acc654e",
   "metadata": {},
   "outputs": [],
   "source": [
    "batch = 32\n",
    "classes = 'binary'\n",
    "\n",
    "train='C:/Users/Shusmita/Desktop/Oral Cancer/Augmented_Oral_Cancer/train'\n",
    "test='C:/Users/Shusmita\\Desktop\\Oral Cancer/Augmented_Oral_Cancer/test'\n",
    "val='C:/Users/Shusmita/Desktop/Oral Cancer/Augmented_Oral_Cancer/Validate'"
   ]
  },
  {
   "cell_type": "code",
   "execution_count": 7,
   "id": "2c872443",
   "metadata": {},
   "outputs": [
    {
     "name": "stdout",
     "output_type": "stream",
     "text": [
      "Found 619 images belonging to 2 classes.\n",
      "Found 130 images belonging to 2 classes.\n",
      "Found 140 images belonging to 2 classes.\n"
     ]
    },
    {
     "data": {
      "text/plain": [
       "2"
      ]
     },
     "execution_count": 7,
     "metadata": {},
     "output_type": "execute_result"
    }
   ],
   "source": [
    "train_datagen = image.ImageDataGenerator(\n",
    "    rotation_range=15,\n",
    "    shear_range=0.2,\n",
    "    zoom_range=0.2,\n",
    "    horizontal_flip=True,\n",
    "    width_shift_range=0.1,\n",
    "    height_shift_range=0.1\n",
    ")\n",
    "validation_datagen= image.ImageDataGenerator()\n",
    "\n",
    "test_datagen= image.ImageDataGenerator()\n",
    "\n",
    "train_generator = train_datagen.flow_from_directory(\n",
    "    train,\n",
    "    target_size = (224,224),\n",
    "    batch_size = batch,\n",
    "    class_mode = classes)\n",
    "\n",
    "\n",
    "validation_generator = validation_datagen.flow_from_directory(\n",
    "    val,\n",
    "    target_size = (224,224),\n",
    "    batch_size = batch,\n",
    "    shuffle=True,\n",
    "    class_mode = classes)\n",
    "\n",
    "test_generator = test_datagen.flow_from_directory(\n",
    "    test,\n",
    "    target_size = (224,224),\n",
    "    batch_size = batch,\n",
    "    class_mode = classes)\n",
    "class_names=validation_generator.class_indices\n",
    "class_names\n",
    "len(class_names)"
   ]
  },
  {
   "cell_type": "code",
   "execution_count": 8,
   "id": "b778dadf",
   "metadata": {},
   "outputs": [
    {
     "name": "stdout",
     "output_type": "stream",
     "text": [
      "Epoch 1/5\n",
      "20/20 [==============================] - 50s 2s/step - loss: 0.7366 - accuracy: 0.6607 - precision: 0.6583 - recall: 0.6752 - auc: 0.7088 - val_loss: 0.5161 - val_accuracy: 0.7692 - val_precision: 0.8400 - val_recall: 0.6562 - val_auc: 0.8267\n",
      "Epoch 2/5\n",
      "20/20 [==============================] - 26s 1s/step - loss: 0.5804 - accuracy: 0.7189 - precision: 0.7231 - recall: 0.7138 - auc: 0.7844 - val_loss: 0.5233 - val_accuracy: 0.7538 - val_precision: 0.9444 - val_recall: 0.5312 - val_auc: 0.8782\n",
      "Epoch 3/5\n",
      "20/20 [==============================] - 31s 2s/step - loss: 0.5716 - accuracy: 0.7157 - precision: 0.7077 - recall: 0.7395 - auc: 0.7879 - val_loss: 0.5519 - val_accuracy: 0.7077 - val_precision: 1.0000 - val_recall: 0.4062 - val_auc: 0.8924\n",
      "Epoch 4/5\n",
      "20/20 [==============================] - 30s 1s/step - loss: 0.4941 - accuracy: 0.7528 - precision: 0.7633 - recall: 0.7363 - auc: 0.8416 - val_loss: 0.4179 - val_accuracy: 0.8000 - val_precision: 0.8519 - val_recall: 0.7188 - val_auc: 0.8965\n",
      "Epoch 5/5\n",
      "20/20 [==============================] - 35s 2s/step - loss: 0.5140 - accuracy: 0.7787 - precision: 0.7771 - recall: 0.7846 - auc: 0.8299 - val_loss: 0.4665 - val_accuracy: 0.7923 - val_precision: 0.9111 - val_recall: 0.6406 - val_auc: 0.8838\n"
     ]
    }
   ],
   "source": [
    "# Train the model\n",
    "epochs = 5  # You can adjust the number of epochs\n",
    "history = model.fit(\n",
    "    train_generator,\n",
    "    epochs=epochs,\n",
    "    validation_data=validation_generator,\n",
    "    verbose=1\n",
    ")"
   ]
  },
  {
   "cell_type": "code",
   "execution_count": 9,
   "id": "750b45a0",
   "metadata": {},
   "outputs": [
    {
     "name": "stdout",
     "output_type": "stream",
     "text": [
      "5/5 [==============================] - 4s 774ms/step - loss: 0.4665 - accuracy: 0.7923 - precision: 0.9111 - recall: 0.6406 - auc: 0.8838\n"
     ]
    },
    {
     "data": {
      "text/plain": [
       "[0.46645551919937134,\n",
       " 0.7923076748847961,\n",
       " 0.9111111164093018,\n",
       " 0.640625,\n",
       " 0.8837594985961914]"
      ]
     },
     "execution_count": 9,
     "metadata": {},
     "output_type": "execute_result"
    }
   ],
   "source": [
    "score=model.evaluate(validation_generator)\n",
    "score"
   ]
  },
  {
   "cell_type": "code",
   "execution_count": 10,
   "id": "5c5274fe",
   "metadata": {},
   "outputs": [
    {
     "name": "stdout",
     "output_type": "stream",
     "text": [
      "5/5 [==============================] - 6s 1s/step - loss: 0.4449 - accuracy: 0.7786 - precision: 0.8909 - recall: 0.6622 - auc: 0.9049\n"
     ]
    },
    {
     "data": {
      "text/plain": [
       "[0.44488728046417236,\n",
       " 0.7785714268684387,\n",
       " 0.8909090757369995,\n",
       " 0.662162184715271,\n",
       " 0.9048935174942017]"
      ]
     },
     "execution_count": 10,
     "metadata": {},
     "output_type": "execute_result"
    }
   ],
   "source": [
    "score=model.evaluate(test_generator)\n",
    "score"
   ]
  },
  {
   "cell_type": "code",
   "execution_count": 11,
   "id": "3c4d5096",
   "metadata": {},
   "outputs": [
    {
     "name": "stdout",
     "output_type": "stream",
     "text": [
      "20/20 [==============================] - 32s 2s/step - loss: 0.4336 - accuracy: 0.8126 - precision: 0.8545 - recall: 0.7556 - auc: 0.8988\n"
     ]
    },
    {
     "data": {
      "text/plain": [
       "[0.4336383044719696,\n",
       " 0.8126009702682495,\n",
       " 0.8545454740524292,\n",
       " 0.7556270360946655,\n",
       " 0.898813009262085]"
      ]
     },
     "execution_count": 11,
     "metadata": {},
     "output_type": "execute_result"
    }
   ],
   "source": [
    "score=model.evaluate(train_generator)\n",
    "score"
   ]
  },
  {
   "cell_type": "code",
   "execution_count": null,
   "id": "0591155b",
   "metadata": {},
   "outputs": [],
   "source": []
  }
 ],
 "metadata": {
  "kernelspec": {
   "display_name": "Python 3 (ipykernel)",
   "language": "python",
   "name": "python3"
  },
  "language_info": {
   "codemirror_mode": {
    "name": "ipython",
    "version": 3
   },
   "file_extension": ".py",
   "mimetype": "text/x-python",
   "name": "python",
   "nbconvert_exporter": "python",
   "pygments_lexer": "ipython3",
   "version": "3.10.9"
  }
 },
 "nbformat": 4,
 "nbformat_minor": 5
}
