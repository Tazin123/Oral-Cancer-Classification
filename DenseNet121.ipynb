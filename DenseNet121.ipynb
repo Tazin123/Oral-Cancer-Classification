{
 "cells": [
  {
   "cell_type": "code",
   "execution_count": 1,
   "id": "56dc2b77",
   "metadata": {},
   "outputs": [],
   "source": [
    "import tensorflow as tf\n",
    "from tensorflow.keras.layers import Input, GlobalAveragePooling2D, Dense, Dropout\n",
    "from tensorflow.keras.models import Model\n",
    "from tensorflow.keras.optimizers import Adam\n",
    "from tensorflow.keras.applications import DenseNet121\n",
    "from tensorflow.keras.preprocessing.image import ImageDataGenerator\n",
    "from tensorflow.keras.preprocessing import image"
   ]
  },
  {
   "cell_type": "code",
   "execution_count": 3,
   "id": "e6afcc8e",
   "metadata": {},
   "outputs": [
    {
     "name": "stdout",
     "output_type": "stream",
     "text": [
      "Downloading data from https://storage.googleapis.com/tensorflow/keras-applications/densenet/densenet121_weights_tf_dim_ordering_tf_kernels_notop.h5\n",
      "29084464/29084464 [==============================] - 237s 8us/step\n"
     ]
    }
   ],
   "source": [
    "# Load the pre-trained DenseNet121 model\n",
    "base_model = DenseNet121(weights='imagenet', include_top=False, input_tensor=Input(shape=(224, 224, 3)))\n"
   ]
  },
  {
   "cell_type": "code",
   "execution_count": 4,
   "id": "a4630618",
   "metadata": {},
   "outputs": [],
   "source": [
    "# Freeze the pre-trained layers\n",
    "for layer in base_model.layers:\n",
    "    layer.trainable = False"
   ]
  },
  {
   "cell_type": "code",
   "execution_count": 5,
   "id": "9d29ba45",
   "metadata": {},
   "outputs": [],
   "source": [
    "# Add custom classification layers on top\n",
    "x = base_model.output\n",
    "x = GlobalAveragePooling2D()(x)\n",
    "x = Dense(512, activation='relu')(x)\n",
    "x = Dropout(0.5)(x)\n",
    "predictions = Dense(1, activation='sigmoid')(x)  # Use 'sigmoid' for binary classification\n"
   ]
  },
  {
   "cell_type": "code",
   "execution_count": 6,
   "id": "0b832834",
   "metadata": {},
   "outputs": [],
   "source": [
    "model = Model(inputs=base_model.input, outputs=predictions)"
   ]
  },
  {
   "cell_type": "code",
   "execution_count": 7,
   "id": "d9993bdc",
   "metadata": {},
   "outputs": [],
   "source": [
    "model.compile(\n",
    "    optimizer='adam',\n",
    "    loss='binary_crossentropy',  # Use 'binary_crossentropy' for binary classification\n",
    "    metrics=['accuracy', 'Precision', 'Recall', 'AUC']\n",
    ")"
   ]
  },
  {
   "cell_type": "code",
   "execution_count": 9,
   "id": "2afb738f",
   "metadata": {},
   "outputs": [],
   "source": [
    "batch = 32\n",
    "classes = 'binary'\n",
    "\n",
    "train='C:/Users/Shusmita/Desktop/Oral Cancer/Augmented_Oral_Cancer/train'\n",
    "test='C:/Users/Shusmita\\Desktop\\Oral Cancer/Augmented_Oral_Cancer/test'\n",
    "val='C:/Users/Shusmita/Desktop/Oral Cancer/Augmented_Oral_Cancer/Validate'"
   ]
  },
  {
   "cell_type": "code",
   "execution_count": 10,
   "id": "58b6c2b3",
   "metadata": {},
   "outputs": [
    {
     "name": "stdout",
     "output_type": "stream",
     "text": [
      "Found 619 images belonging to 2 classes.\n",
      "Found 130 images belonging to 2 classes.\n",
      "Found 140 images belonging to 2 classes.\n"
     ]
    },
    {
     "data": {
      "text/plain": [
       "2"
      ]
     },
     "execution_count": 10,
     "metadata": {},
     "output_type": "execute_result"
    }
   ],
   "source": [
    "train_datagen = image.ImageDataGenerator(\n",
    "    rotation_range=15,\n",
    "    shear_range=0.2,\n",
    "    zoom_range=0.2,\n",
    "    horizontal_flip=True,\n",
    "    width_shift_range=0.1,\n",
    "    height_shift_range=0.1\n",
    ")\n",
    "validation_datagen= image.ImageDataGenerator()\n",
    "\n",
    "test_datagen= image.ImageDataGenerator()\n",
    "\n",
    "train_generator = train_datagen.flow_from_directory(\n",
    "    train,\n",
    "    target_size = (224,224),\n",
    "    batch_size = batch,\n",
    "    class_mode = classes)\n",
    "\n",
    "\n",
    "validation_generator = validation_datagen.flow_from_directory(\n",
    "    val,\n",
    "    target_size = (224,224),\n",
    "    batch_size = batch,\n",
    "    shuffle=True,\n",
    "    class_mode = classes)\n",
    "\n",
    "test_generator = test_datagen.flow_from_directory(\n",
    "    test,\n",
    "    target_size = (224,224),\n",
    "    batch_size = batch,\n",
    "    class_mode = classes)\n",
    "class_names=validation_generator.class_indices\n",
    "class_names\n",
    "len(class_names)"
   ]
  },
  {
   "cell_type": "code",
   "execution_count": 11,
   "id": "0570a307",
   "metadata": {},
   "outputs": [
    {
     "name": "stdout",
     "output_type": "stream",
     "text": [
      "Epoch 1/5\n",
      "20/20 [==============================] - 79s 4s/step - loss: 1.9066 - accuracy: 0.6026 - precision: 0.6038 - recall: 0.6077 - auc: 0.6061 - val_loss: 0.9809 - val_accuracy: 0.6385 - val_precision: 0.9048 - val_recall: 0.2969 - val_auc: 0.7111\n",
      "Epoch 2/5\n",
      "20/20 [==============================] - 83s 4s/step - loss: 1.1303 - accuracy: 0.6478 - precision: 0.6440 - recall: 0.6688 - auc: 0.6940 - val_loss: 0.6835 - val_accuracy: 0.7077 - val_precision: 0.9643 - val_recall: 0.4219 - val_auc: 0.8211\n",
      "Epoch 3/5\n",
      "20/20 [==============================] - 89s 4s/step - loss: 0.6551 - accuracy: 0.7351 - precision: 0.7458 - recall: 0.7170 - auc: 0.8001 - val_loss: 0.4503 - val_accuracy: 0.8000 - val_precision: 0.9130 - val_recall: 0.6562 - val_auc: 0.8844\n",
      "Epoch 4/5\n",
      "20/20 [==============================] - 120s 6s/step - loss: 0.5528 - accuracy: 0.7480 - precision: 0.7558 - recall: 0.7363 - auc: 0.8223 - val_loss: 0.3810 - val_accuracy: 0.8308 - val_precision: 0.8750 - val_recall: 0.7656 - val_auc: 0.9142\n",
      "Epoch 5/5\n",
      "20/20 [==============================] - 116s 6s/step - loss: 0.4511 - accuracy: 0.7964 - precision: 0.7955 - recall: 0.8006 - auc: 0.8739 - val_loss: 0.5572 - val_accuracy: 0.7000 - val_precision: 0.9310 - val_recall: 0.4219 - val_auc: 0.8925\n"
     ]
    }
   ],
   "source": [
    "# Train the model\n",
    "epochs = 5  # You can adjust the number of epochs\n",
    "history = model.fit(\n",
    "    train_generator,\n",
    "    epochs=epochs,\n",
    "    validation_data=validation_generator,\n",
    "    verbose=1\n",
    ")"
   ]
  },
  {
   "cell_type": "code",
   "execution_count": 12,
   "id": "8288f8de",
   "metadata": {},
   "outputs": [
    {
     "name": "stdout",
     "output_type": "stream",
     "text": [
      "5/5 [==============================] - 13s 2s/step - loss: 0.5572 - accuracy: 0.7000 - precision: 0.9310 - recall: 0.4219 - auc: 0.8925\n"
     ]
    },
    {
     "data": {
      "text/plain": [
       "[0.5571834444999695,\n",
       " 0.699999988079071,\n",
       " 0.931034505367279,\n",
       " 0.421875,\n",
       " 0.8925188779830933]"
      ]
     },
     "execution_count": 12,
     "metadata": {},
     "output_type": "execute_result"
    }
   ],
   "source": [
    "score=model.evaluate(validation_generator)\n",
    "score"
   ]
  },
  {
   "cell_type": "code",
   "execution_count": 13,
   "id": "d6652425",
   "metadata": {},
   "outputs": [
    {
     "name": "stdout",
     "output_type": "stream",
     "text": [
      "5/5 [==============================] - 14s 3s/step - loss: 0.5696 - accuracy: 0.7143 - precision: 0.9250 - recall: 0.5000 - auc: 0.8681\n"
     ]
    },
    {
     "data": {
      "text/plain": [
       "[0.569620668888092,\n",
       " 0.7142857313156128,\n",
       " 0.925000011920929,\n",
       " 0.5,\n",
       " 0.8681408166885376]"
      ]
     },
     "execution_count": 13,
     "metadata": {},
     "output_type": "execute_result"
    }
   ],
   "source": [
    "score=model.evaluate(test_generator)\n",
    "score"
   ]
  },
  {
   "cell_type": "code",
   "execution_count": 14,
   "id": "94bae32a",
   "metadata": {},
   "outputs": [
    {
     "name": "stdout",
     "output_type": "stream",
     "text": [
      "20/20 [==============================] - 102s 5s/step - loss: 0.4518 - accuracy: 0.7787 - precision: 0.9579 - recall: 0.5852 - auc: 0.9289\n"
     ]
    },
    {
     "data": {
      "text/plain": [
       "[0.45179083943367004,\n",
       " 0.7786752581596375,\n",
       " 0.9578947424888611,\n",
       " 0.5852090120315552,\n",
       " 0.9289002418518066]"
      ]
     },
     "execution_count": 14,
     "metadata": {},
     "output_type": "execute_result"
    }
   ],
   "source": [
    "score=model.evaluate(train_generator)\n",
    "score"
   ]
  },
  {
   "cell_type": "code",
   "execution_count": null,
   "id": "82976f65",
   "metadata": {},
   "outputs": [],
   "source": []
  },
  {
   "cell_type": "code",
   "execution_count": null,
   "id": "a2748110",
   "metadata": {},
   "outputs": [],
   "source": []
  }
 ],
 "metadata": {
  "kernelspec": {
   "display_name": "Python 3 (ipykernel)",
   "language": "python",
   "name": "python3"
  },
  "language_info": {
   "codemirror_mode": {
    "name": "ipython",
    "version": 3
   },
   "file_extension": ".py",
   "mimetype": "text/x-python",
   "name": "python",
   "nbconvert_exporter": "python",
   "pygments_lexer": "ipython3",
   "version": "3.10.9"
  }
 },
 "nbformat": 4,
 "nbformat_minor": 5
}
