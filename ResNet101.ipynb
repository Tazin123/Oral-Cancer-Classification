{
 "cells": [
  {
   "cell_type": "code",
   "execution_count": 1,
   "id": "e725c61b",
   "metadata": {},
   "outputs": [
    {
     "name": "stdout",
     "output_type": "stream",
     "text": [
      "Requirement already satisfied: keras in c:\\users\\shusmita\\anaconda3\\lib\\site-packages (2.12.0)\n"
     ]
    }
   ],
   "source": [
    "import os\n",
    "import tensorflow as tf\n",
    "import numpy as np\n",
    "import pandas as pd\n",
    "import matplotlib.pyplot as plt\n",
    "!pip install keras \n",
    "from tensorflow.keras import models,layers\n",
    "from tensorflow.keras.models import *\n",
    "from tensorflow.keras.layers import *\n",
    "from tensorflow.keras.applications import *\n",
    "from tensorflow.keras.preprocessing import image"
   ]
  },
  {
   "cell_type": "code",
   "execution_count": 2,
   "id": "2129137b",
   "metadata": {},
   "outputs": [],
   "source": [
    "batch = 32\n",
    "classes = 'binary'\n",
    "\n",
    "train='C:/Users/Shusmita/Desktop/Oral Cancer/Augmented_Oral_Cancer/train'\n",
    "test='C:/Users/Shusmita\\Desktop\\Oral Cancer/Augmented_Oral_Cancer/test'\n",
    "val='C:/Users/Shusmita/Desktop/Oral Cancer/Augmented_Oral_Cancer/Validate'"
   ]
  },
  {
   "cell_type": "code",
   "execution_count": 3,
   "id": "37baaf7a",
   "metadata": {},
   "outputs": [
    {
     "name": "stdout",
     "output_type": "stream",
     "text": [
      "Found 619 images belonging to 2 classes.\n",
      "Found 130 images belonging to 2 classes.\n",
      "Found 140 images belonging to 2 classes.\n"
     ]
    },
    {
     "data": {
      "text/plain": [
       "2"
      ]
     },
     "execution_count": 3,
     "metadata": {},
     "output_type": "execute_result"
    }
   ],
   "source": [
    "train_datagen = image.ImageDataGenerator(\n",
    "    rotation_range=15,\n",
    "    shear_range=0.2,\n",
    "    zoom_range=0.2,\n",
    "    horizontal_flip=True,\n",
    "    width_shift_range=0.1,\n",
    "    height_shift_range=0.1\n",
    ")\n",
    "validation_datagen= image.ImageDataGenerator()\n",
    "\n",
    "test_datagen= image.ImageDataGenerator()\n",
    "\n",
    "train_generator = train_datagen.flow_from_directory(\n",
    "    train,\n",
    "    target_size = (224,224),\n",
    "    batch_size = batch,\n",
    "    class_mode = classes)\n",
    "\n",
    "\n",
    "validation_generator = validation_datagen.flow_from_directory(\n",
    "    val,\n",
    "    target_size = (224,224),\n",
    "    batch_size = batch,\n",
    "    shuffle=True,\n",
    "    class_mode = classes)\n",
    "\n",
    "test_generator = test_datagen.flow_from_directory(\n",
    "    test,\n",
    "    target_size = (224,224),\n",
    "    batch_size = batch,\n",
    "    class_mode = classes)\n",
    "class_names=validation_generator.class_indices\n",
    "class_names\n",
    "len(class_names)"
   ]
  },
  {
   "cell_type": "code",
   "execution_count": 4,
   "id": "3053849c",
   "metadata": {},
   "outputs": [
    {
     "name": "stdout",
     "output_type": "stream",
     "text": [
      "A local file was found, but it seems to be incomplete or outdated because the auto file hash does not match the original value of 88cf7a10940856eca736dc7b7e228a21 so we will re-download the data.\n",
      "Downloading data from https://storage.googleapis.com/tensorflow/keras-applications/resnet/resnet101_weights_tf_dim_ordering_tf_kernels_notop.h5\n",
      "171446536/171446536 [==============================] - 396s 2us/step\n"
     ]
    }
   ],
   "source": [
    "base_for_model = resnet.ResNet101(weights='imagenet', input_shape=(224,224,3), include_top=False)\n",
    "for layer in base_for_model.layers:\n",
    "    layer.trainable = False"
   ]
  },
  {
   "cell_type": "code",
   "execution_count": 5,
   "id": "c2cf8508",
   "metadata": {},
   "outputs": [
    {
     "name": "stdout",
     "output_type": "stream",
     "text": [
      "Model: \"sequential\"\n",
      "_________________________________________________________________\n",
      " Layer (type)                Output Shape              Param #   \n",
      "=================================================================\n",
      " resnet101 (Functional)      (None, 7, 7, 2048)        42658176  \n",
      "                                                                 \n",
      " dense (Dense)               (None, 7, 7, 512)         1049088   \n",
      "                                                                 \n",
      " batch_normalization (BatchN  (None, 7, 7, 512)        2048      \n",
      " ormalization)                                                   \n",
      "                                                                 \n",
      " dense_1 (Dense)             (None, 7, 7, 512)         262656    \n",
      "                                                                 \n",
      " global_max_pooling2d (Globa  (None, 512)              0         \n",
      " lMaxPooling2D)                                                  \n",
      "                                                                 \n",
      " batch_normalization_1 (Batc  (None, 512)              2048      \n",
      " hNormalization)                                                 \n",
      "                                                                 \n",
      " dense_2 (Dense)             (None, 512)               262656    \n",
      "                                                                 \n",
      " batch_normalization_2 (Batc  (None, 512)              2048      \n",
      " hNormalization)                                                 \n",
      "                                                                 \n",
      " dense_3 (Dense)             (None, 512)               262656    \n",
      "                                                                 \n",
      " batch_normalization_3 (Batc  (None, 512)              2048      \n",
      " hNormalization)                                                 \n",
      "                                                                 \n",
      " dense_4 (Dense)             (None, 1)                 513       \n",
      "                                                                 \n",
      "=================================================================\n",
      "Total params: 44,503,937\n",
      "Trainable params: 1,841,665\n",
      "Non-trainable params: 42,662,272\n",
      "_________________________________________________________________\n"
     ]
    }
   ],
   "source": [
    "model = Sequential()\n",
    "model.add(base_for_model) \n",
    "model.add(Dense(512, activation='relu'))\n",
    "model.add(BatchNormalization())\n",
    "model.add(Dense(512, activation='relu'))\n",
    "model.add(GlobalMaxPooling2D()) \n",
    "model.add(BatchNormalization())\n",
    "model.add(Dense(512, activation = 'relu')) \n",
    "model.add(BatchNormalization()) \n",
    "model.add(Dense(512,activation='relu'))\n",
    "model.add(BatchNormalization())\n",
    "model.add(Dense(1, activation='sigmoid'))\n",
    "model.summary()"
   ]
  },
  {
   "cell_type": "code",
   "execution_count": 6,
   "id": "e5f6d9c3",
   "metadata": {},
   "outputs": [],
   "source": [
    "model.compile(\n",
    "    optimizer='adam',\n",
    "    loss=tf.keras.losses.BinaryCrossentropy(from_logits=False),\n",
    "    metrics=['accuracy','Precision','Recall','AUC']\n",
    ")"
   ]
  },
  {
   "cell_type": "code",
   "execution_count": 7,
   "id": "1ae40292",
   "metadata": {},
   "outputs": [
    {
     "name": "stdout",
     "output_type": "stream",
     "text": [
      "Epoch 1/10\n",
      "20/20 [==============================] - 133s 6s/step - loss: 0.4700 - accuracy: 0.8304 - precision: 0.8239 - recall: 0.8424 - auc: 0.9063 - val_loss: 0.4239 - val_accuracy: 0.8231 - val_precision: 0.7470 - val_recall: 0.9688 - val_auc: 0.9444\n",
      "Epoch 2/10\n",
      "20/20 [==============================] - 129s 7s/step - loss: 0.2323 - accuracy: 0.9192 - precision: 0.9365 - recall: 0.9003 - auc: 0.9767 - val_loss: 0.5125 - val_accuracy: 0.8769 - val_precision: 0.9800 - val_recall: 0.7656 - val_auc: 0.9640\n",
      "Epoch 3/10\n",
      "20/20 [==============================] - 130s 7s/step - loss: 0.1326 - accuracy: 0.9499 - precision: 0.9459 - recall: 0.9550 - auc: 0.9889 - val_loss: 0.8892 - val_accuracy: 0.8462 - val_precision: 0.9783 - val_recall: 0.7031 - val_auc: 0.9303\n",
      "Epoch 4/10\n",
      "20/20 [==============================] - 128s 6s/step - loss: 0.0855 - accuracy: 0.9725 - precision: 0.9804 - recall: 0.9646 - auc: 0.9923 - val_loss: 0.3794 - val_accuracy: 0.9000 - val_precision: 1.0000 - val_recall: 0.7969 - val_auc: 0.9840\n",
      "Epoch 5/10\n",
      "20/20 [==============================] - 128s 6s/step - loss: 0.0699 - accuracy: 0.9742 - precision: 0.9836 - recall: 0.9646 - auc: 0.9959 - val_loss: 0.2506 - val_accuracy: 0.9308 - val_precision: 0.9365 - val_recall: 0.9219 - val_auc: 0.9749\n",
      "Epoch 6/10\n",
      "20/20 [==============================] - 128s 6s/step - loss: 0.0517 - accuracy: 0.9855 - precision: 0.9809 - recall: 0.9904 - auc: 0.9985 - val_loss: 0.1231 - val_accuracy: 0.9615 - val_precision: 1.0000 - val_recall: 0.9219 - val_auc: 0.9922\n",
      "Epoch 7/10\n",
      "20/20 [==============================] - 129s 6s/step - loss: 0.0518 - accuracy: 0.9822 - precision: 0.9870 - recall: 0.9775 - auc: 0.9973 - val_loss: 0.0703 - val_accuracy: 0.9692 - val_precision: 1.0000 - val_recall: 0.9375 - val_auc: 0.9998\n",
      "Epoch 8/10\n",
      "20/20 [==============================] - 130s 7s/step - loss: 0.0435 - accuracy: 0.9822 - precision: 0.9902 - recall: 0.9743 - auc: 0.9990 - val_loss: 0.0975 - val_accuracy: 0.9692 - val_precision: 1.0000 - val_recall: 0.9375 - val_auc: 0.9993\n",
      "Epoch 9/10\n",
      "20/20 [==============================] - 128s 6s/step - loss: 0.0380 - accuracy: 0.9838 - precision: 0.9871 - recall: 0.9807 - auc: 0.9990 - val_loss: 0.0199 - val_accuracy: 0.9923 - val_precision: 1.0000 - val_recall: 0.9844 - val_auc: 1.0000\n",
      "Epoch 10/10\n",
      "20/20 [==============================] - 129s 6s/step - loss: 0.0647 - accuracy: 0.9838 - precision: 0.9778 - recall: 0.9904 - auc: 0.9970 - val_loss: 0.0988 - val_accuracy: 0.9538 - val_precision: 1.0000 - val_recall: 0.9062 - val_auc: 0.9998\n"
     ]
    }
   ],
   "source": [
    "history=model.fit(\n",
    "    train_generator,\n",
    "    epochs=10,\n",
    "    batch_size=64,\n",
    "    validation_data=validation_generator\n",
    ")"
   ]
  },
  {
   "cell_type": "code",
   "execution_count": 8,
   "id": "4ea4f024",
   "metadata": {},
   "outputs": [
    {
     "name": "stdout",
     "output_type": "stream",
     "text": [
      "5/5 [==============================] - 22s 4s/step - loss: 0.0988 - accuracy: 0.9538 - precision: 1.0000 - recall: 0.9062 - auc: 0.9998\n"
     ]
    },
    {
     "data": {
      "text/plain": [
       "[0.09878158569335938, 0.9538461565971375, 1.0, 0.90625, 0.9997632503509521]"
      ]
     },
     "execution_count": 8,
     "metadata": {},
     "output_type": "execute_result"
    }
   ],
   "source": [
    "score=model.evaluate(validation_generator)\n",
    "score"
   ]
  },
  {
   "cell_type": "code",
   "execution_count": null,
   "id": "a50948bf",
   "metadata": {},
   "outputs": [],
   "source": []
  }
 ],
 "metadata": {
  "kernelspec": {
   "display_name": "Python 3 (ipykernel)",
   "language": "python",
   "name": "python3"
  },
  "language_info": {
   "codemirror_mode": {
    "name": "ipython",
    "version": 3
   },
   "file_extension": ".py",
   "mimetype": "text/x-python",
   "name": "python",
   "nbconvert_exporter": "python",
   "pygments_lexer": "ipython3",
   "version": "3.10.9"
  }
 },
 "nbformat": 4,
 "nbformat_minor": 5
}
